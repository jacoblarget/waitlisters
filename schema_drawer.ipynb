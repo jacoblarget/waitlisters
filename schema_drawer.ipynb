{
  "cells": [
    {
      "cell_type": "code",
      "source": [
        "import pydot\n",
        "\n",
        "# database schema canvas\n",
        "graph = pydot.Dot(graph_type=\"digraph\")\n",
        "\n",
        "# declare nodes\n",
        "queues = pydot.Node(\"Queues\", shape=\"record\", label=\"{Queues|* queue_id : int\\\\l- course_id : int\\\\l- user_id : int\\\\l+ queue_estimated_time : int\\\\l+ queue_request_status : enum('DONE', 'IN_PROGRESS', 'WAITING, 'CANCELED')\\\\l+ queue_topic_description : varchar(255)\\\\l+ queue_timestamp : timestamp\\\\l- queue_instructor_user_id : int\\\\l}\")\n",
        "courses = pydot.Node(\"Courses\", shape=\"record\", label=\"{Courses|* course_id : int\\\\l+ course_name : varchar(255)\\\\l+ course_description : varchar(255)\\\\l+ course_student_join_code : varchar(255)\\\\l+ course_instructor_join_code : varchar(255)\\\\l}\")\n",
        "users = pydot.Node(\"Users\", shape=\"record\", label=\"{Users|* user_id : int\\\\l+ user_name : varchar(255)\\\\l+ user_email : varchar(255)\\\\l+ user_password : varchar(255)\\\\l}\")\n",
        "permissions = pydot.Node(\"Permissions\", shape=\"record\", label=\"{Permissions|* permission_id : int\\\\l- course_id : int\\\\l- user_id : int\\\\l+ permission_type : enum('instructor', 'student')\\\\l+ permission_location : varchar(255)\\\\l}\")\n",
        "\n",
        "# add nodes\n",
        "graph.add_node(courses)\n",
        "graph.add_node(users)\n",
        "graph.add_node(queues)\n",
        "graph.add_node(permissions)\n",
        "\n",
        "# add edges\n",
        "graph.add_edge(pydot.Edge(courses, queues, dir=\"back\", label=\"course_id\"))\n",
        "graph.add_edge(pydot.Edge(users, queues, dir=\"back\", label=\"user_id\"))\n",
        "graph.add_edge(pydot.Edge(users, queues, dir=\"back\", label=\"queue_instructor_id\"))\n",
        "graph.add_edge(pydot.Edge(courses, permissions, dir=\"back\", label=\"course_id\"))\n",
        "graph.add_edge(pydot.Edge(users, permissions, dir=\"back\", label=\"user_id\"))\n",
        "\n",
        "# save to png\n",
        "graph.write_png(\"database_schema.png\")\n"
      ],
      "metadata": {
        "id": "0ZC76O2aOsiX"
      },
      "execution_count": 10,
      "outputs": []
    },
    {
      "cell_type": "code",
      "source": [
        "# ui schema canvas\n",
        "graph = pydot.Dot(graph_type=\"digraph\")\n",
        "\n",
        "# declare nodes\n",
        "index = pydot.Node(\"Index\", shape=\"record\", label=\"{Index|* Register\\\\l* Login\\\\l* Learn About Website\\\\l}\")\n",
        "register = pydot.Node(\"Register\", shape=\"record\", label=\"{Register|* Register With Wisc ID\\\\l}\")\n",
        "login = pydot.Node(\"Login\", shape=\"record\", label=\"{Login|* Login With Wisc ID\\\\l}\")\n",
        "dashboard = pydot.Node(\"Dashboard\", shape=\"record\", label=\"{Dashboard|* Access Your Courses\\\\l* Join New Course (as Instructor or Student)\\\\l* Create New Course (as Instructor)\\\\l}\")\n",
        "instructorView = pydot.Node(\"InstructorView\", shape=\"record\", label=\"{InstructorView|* See Live Course Queue\\\\l* Help Next Student\\\\l* Kick Out No Show Student\\\\l* Edit Info Seen By Students\\\\l}\")\n",
        "studentView = pydot.Node(\"StudentView\", shape=\"record\", label=\"{StudentView|* See Live Course Queue\\\\l* Edit Question and Estimated Time\\\\l* Enter/Leave Queue\\\\l* See Instructor Info When Selected\\\\l}\")\n",
        "\n",
        "# add nodes\n",
        "graph.add_node(index)\n",
        "graph.add_node(register)\n",
        "graph.add_node(login)\n",
        "graph.add_node(dashboard)\n",
        "graph.add_node(instructorView)\n",
        "graph.add_node(studentView)\n",
        "\n",
        "# add edges\n",
        "graph.add_edge(pydot.Edge(index, login, label=\"Account Already Exists\"))\n",
        "graph.add_edge(pydot.Edge(index, register, label=\"Account Needed\"))\n",
        "graph.add_edge(pydot.Edge(register, login, label=\"Account Created\"))\n",
        "graph.add_edge(pydot.Edge(login, dashboard, label=\"Sign In Successful\"))\n",
        "graph.add_edge(pydot.Edge(dashboard, instructorView, label = \"Instructor Permissions for Course\"))\n",
        "graph.add_edge(pydot.Edge(dashboard, studentView, label = \"Student Permissions for Course\"))\n",
        "\n",
        "\n",
        "# save to png\n",
        "graph.write_png(\"ui_schema.png\")"
      ],
      "metadata": {
        "id": "uoT9CjqctiiG"
      },
      "execution_count": 9,
      "outputs": []
    }
  ],
  "metadata": {
    "colab": {
      "provenance": []
    },
    "kernelspec": {
      "display_name": "Python 3",
      "name": "python3"
    },
    "language_info": {
      "name": "python"
    }
  },
  "nbformat": 4,
  "nbformat_minor": 0
}